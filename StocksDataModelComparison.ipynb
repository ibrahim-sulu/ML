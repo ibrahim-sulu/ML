{
 "cells": [
  {
   "cell_type": "markdown",
   "id": "43c1f745",
   "metadata": {},
   "source": [
    "Import libraries"
   ]
  },
  {
   "cell_type": "code",
   "execution_count": 1,
   "id": "58a2d885-724d-4aee-ac6e-4cf47277ac91",
   "metadata": {},
   "outputs": [],
   "source": [
    "import csv\n",
    "import requests\n",
    "import pandas as pd\n",
    "import matplotlib.pyplot as plt\n",
    "import math\n",
    "import numpy as np\n",
    "import seaborn as sns\n",
    "import datetime"
   ]
  },
  {
   "cell_type": "markdown",
   "id": "2fb1ac9f",
   "metadata": {},
   "source": [
    "Empty dataframe for api data to go into"
   ]
  },
  {
   "cell_type": "code",
   "execution_count": 2,
   "id": "cb382100",
   "metadata": {},
   "outputs": [],
   "source": [
    "data = []\n",
    "df = pd.DataFrame(data)"
   ]
  },
  {
   "cell_type": "markdown",
   "id": "fb805317",
   "metadata": {},
   "source": [
    "API only allows five calls per minute, each call is for one month, so I will create a recursive function to bring in the data and append onto the created dataframe."
   ]
  },
  {
   "cell_type": "code",
   "execution_count": 3,
   "id": "8d350bb1",
   "metadata": {},
   "outputs": [],
   "source": [
    "year = [1]\n",
    "month = [1,2,3,4,5]"
   ]
  },
  {
   "cell_type": "raw",
   "id": "fe6a54b2",
   "metadata": {},
   "source": [
    "for i in year:\n",
    "    for j in month:\n",
    "        with requests.Session() as s:\n",
    "            download = s.get('https://www.alphavantage.co/query?function=TIME_SERIES_INTRADAY_EXTENDED&symbol=IBM&interval=60min&slice=year'+str(i)+'month'+str(j)+'&outputsize=full&apikey=7???????')\n",
    "            decoded_content = download.content.decode('utf-8')\n",
    "            cr = csv.reader(decoded_content.splitlines(), delimiter=',')\n",
    "            my_list = list(cr)\n",
    "            for row in my_list:\n",
    "                df = df.append(my_list, ignore_index = True)\n",
    "                "
   ]
  },
  {
   "cell_type": "code",
   "execution_count": 4,
   "id": "6a3c645a",
   "metadata": {},
   "outputs": [
    {
     "name": "stderr",
     "output_type": "stream",
     "text": [
      "/var/folders/xh/8q06gt11787bp2l0dwrrvrwr0000gn/T/ipykernel_7229/2966128647.py:9: FutureWarning: The frame.append method is deprecated and will be removed from pandas in a future version. Use pandas.concat instead.\n",
      "  df = df.append(my_list, ignore_index = True)\n"
     ]
    }
   ],
   "source": [
    "for i in year:\n",
    "    for j in month:\n",
    "        with requests.Session() as s:\n",
    "            download = s.get('https://www.alphavantage.co/query?function=TIME_SERIES_INTRADAY_EXTENDED&symbol=IBM&interval=60min&slice=year'+str(i)+'month'+str(j)+'&outputsize=full&apikey=73S9HSOL3AL4PHV5')\n",
    "            decoded_content = download.content.decode('utf-8')\n",
    "            cr = csv.reader(decoded_content.splitlines(), delimiter=',')\n",
    "            my_list = list(cr)\n",
    "            for row in my_list:\n",
    "                df = df.append(my_list, ignore_index = True)\n",
    "                \n"
   ]
  },
  {
   "cell_type": "code",
   "execution_count": 5,
   "id": "a0792d39-3c1c-4472-8cdc-fb8562a80c6a",
   "metadata": {
    "scrolled": false
   },
   "outputs": [
    {
     "data": {
      "text/html": [
       "<div>\n",
       "<style scoped>\n",
       "    .dataframe tbody tr th:only-of-type {\n",
       "        vertical-align: middle;\n",
       "    }\n",
       "\n",
       "    .dataframe tbody tr th {\n",
       "        vertical-align: top;\n",
       "    }\n",
       "\n",
       "    .dataframe thead th {\n",
       "        text-align: right;\n",
       "    }\n",
       "</style>\n",
       "<table border=\"1\" class=\"dataframe\">\n",
       "  <thead>\n",
       "    <tr style=\"text-align: right;\">\n",
       "      <th></th>\n",
       "      <th>0</th>\n",
       "      <th>1</th>\n",
       "      <th>2</th>\n",
       "      <th>3</th>\n",
       "      <th>4</th>\n",
       "      <th>5</th>\n",
       "    </tr>\n",
       "  </thead>\n",
       "  <tbody>\n",
       "    <tr>\n",
       "      <th>0</th>\n",
       "      <td>time</td>\n",
       "      <td>open</td>\n",
       "      <td>high</td>\n",
       "      <td>low</td>\n",
       "      <td>close</td>\n",
       "      <td>volume</td>\n",
       "    </tr>\n",
       "    <tr>\n",
       "      <th>1</th>\n",
       "      <td>2023-04-27 20:00:00</td>\n",
       "      <td>126.9</td>\n",
       "      <td>126.9</td>\n",
       "      <td>126.9</td>\n",
       "      <td>126.9</td>\n",
       "      <td>153</td>\n",
       "    </tr>\n",
       "    <tr>\n",
       "      <th>2</th>\n",
       "      <td>2023-04-27 19:00:00</td>\n",
       "      <td>126.73</td>\n",
       "      <td>126.95</td>\n",
       "      <td>126.73</td>\n",
       "      <td>126.73</td>\n",
       "      <td>889</td>\n",
       "    </tr>\n",
       "    <tr>\n",
       "      <th>3</th>\n",
       "      <td>2023-04-27 18:00:00</td>\n",
       "      <td>126.95</td>\n",
       "      <td>126.95</td>\n",
       "      <td>126.7397</td>\n",
       "      <td>126.7397</td>\n",
       "      <td>245</td>\n",
       "    </tr>\n",
       "    <tr>\n",
       "      <th>4</th>\n",
       "      <td>2023-04-27 17:00:00</td>\n",
       "      <td>126.97</td>\n",
       "      <td>127.1</td>\n",
       "      <td>126.72</td>\n",
       "      <td>126.72</td>\n",
       "      <td>60942</td>\n",
       "    </tr>\n",
       "  </tbody>\n",
       "</table>\n",
       "</div>"
      ],
      "text/plain": [
       "                     0       1       2         3         4       5\n",
       "0                 time    open    high       low     close  volume\n",
       "1  2023-04-27 20:00:00   126.9   126.9     126.9     126.9     153\n",
       "2  2023-04-27 19:00:00  126.73  126.95    126.73    126.73     889\n",
       "3  2023-04-27 18:00:00  126.95  126.95  126.7397  126.7397     245\n",
       "4  2023-04-27 17:00:00  126.97   127.1    126.72    126.72   60942"
      ]
     },
     "execution_count": 5,
     "metadata": {},
     "output_type": "execute_result"
    }
   ],
   "source": [
    "df.head()"
   ]
  },
  {
   "cell_type": "markdown",
   "id": "dfe82c94",
   "metadata": {},
   "source": [
    "Column headers were added as first row"
   ]
  },
  {
   "cell_type": "code",
   "execution_count": 6,
   "id": "39f315a6-9b7f-42be-b06d-584faecff452",
   "metadata": {},
   "outputs": [],
   "source": [
    "df.columns = df.iloc[0] #Make column first row \n",
    "df = df[1:] #Remove first row"
   ]
  },
  {
   "cell_type": "code",
   "execution_count": 7,
   "id": "2e3fca53-4a7d-491d-b565-c8315d368957",
   "metadata": {
    "jupyter": {
     "outputs_hidden": true
    },
    "scrolled": true,
    "tags": []
   },
   "outputs": [],
   "source": [
    "df = df.dropna()"
   ]
  },
  {
   "cell_type": "code",
   "execution_count": 8,
   "id": "6671e560",
   "metadata": {},
   "outputs": [
    {
     "data": {
      "text/plain": [
       "(326825, 6)"
      ]
     },
     "execution_count": 8,
     "metadata": {},
     "output_type": "execute_result"
    }
   ],
   "source": [
    "df.shape"
   ]
  },
  {
   "cell_type": "markdown",
   "id": "a522578d",
   "metadata": {},
   "source": [
    "For each API call column names would be present"
   ]
  },
  {
   "cell_type": "code",
   "execution_count": 9,
   "id": "984ac67a",
   "metadata": {},
   "outputs": [],
   "source": [
    "df = df[df['open'] != 'open'] #Removing other rows that contain the headers"
   ]
  },
  {
   "cell_type": "code",
   "execution_count": 10,
   "id": "cf0da1c3-3a6b-4dbc-91a7-45a2c56998df",
   "metadata": {
    "tags": []
   },
   "outputs": [
    {
     "data": {
      "text/plain": [
       "(325550, 6)"
      ]
     },
     "execution_count": 10,
     "metadata": {},
     "output_type": "execute_result"
    }
   ],
   "source": [
    "df.shape"
   ]
  },
  {
   "cell_type": "code",
   "execution_count": 11,
   "id": "7024b34b",
   "metadata": {},
   "outputs": [
    {
     "data": {
      "text/html": [
       "<div>\n",
       "<style scoped>\n",
       "    .dataframe tbody tr th:only-of-type {\n",
       "        vertical-align: middle;\n",
       "    }\n",
       "\n",
       "    .dataframe tbody tr th {\n",
       "        vertical-align: top;\n",
       "    }\n",
       "\n",
       "    .dataframe thead th {\n",
       "        text-align: right;\n",
       "    }\n",
       "</style>\n",
       "<table border=\"1\" class=\"dataframe\">\n",
       "  <thead>\n",
       "    <tr style=\"text-align: right;\">\n",
       "      <th></th>\n",
       "      <th>time</th>\n",
       "      <th>open</th>\n",
       "      <th>high</th>\n",
       "      <th>low</th>\n",
       "      <th>close</th>\n",
       "      <th>volume</th>\n",
       "    </tr>\n",
       "  </thead>\n",
       "  <tbody>\n",
       "    <tr>\n",
       "      <th>1</th>\n",
       "      <td>2023-04-27 20:00:00</td>\n",
       "      <td>126.9</td>\n",
       "      <td>126.9</td>\n",
       "      <td>126.9</td>\n",
       "      <td>126.9</td>\n",
       "      <td>153</td>\n",
       "    </tr>\n",
       "    <tr>\n",
       "      <th>2</th>\n",
       "      <td>2023-04-27 19:00:00</td>\n",
       "      <td>126.73</td>\n",
       "      <td>126.95</td>\n",
       "      <td>126.73</td>\n",
       "      <td>126.73</td>\n",
       "      <td>889</td>\n",
       "    </tr>\n",
       "    <tr>\n",
       "      <th>3</th>\n",
       "      <td>2023-04-27 18:00:00</td>\n",
       "      <td>126.95</td>\n",
       "      <td>126.95</td>\n",
       "      <td>126.7397</td>\n",
       "      <td>126.7397</td>\n",
       "      <td>245</td>\n",
       "    </tr>\n",
       "    <tr>\n",
       "      <th>4</th>\n",
       "      <td>2023-04-27 17:00:00</td>\n",
       "      <td>126.97</td>\n",
       "      <td>127.1</td>\n",
       "      <td>126.72</td>\n",
       "      <td>126.72</td>\n",
       "      <td>60942</td>\n",
       "    </tr>\n",
       "    <tr>\n",
       "      <th>5</th>\n",
       "      <td>2023-04-27 16:00:00</td>\n",
       "      <td>126.95</td>\n",
       "      <td>127.02</td>\n",
       "      <td>126.64</td>\n",
       "      <td>126.97</td>\n",
       "      <td>733135</td>\n",
       "    </tr>\n",
       "    <tr>\n",
       "      <th>...</th>\n",
       "      <td>...</td>\n",
       "      <td>...</td>\n",
       "      <td>...</td>\n",
       "      <td>...</td>\n",
       "      <td>...</td>\n",
       "      <td>...</td>\n",
       "    </tr>\n",
       "    <tr>\n",
       "      <th>271831</th>\n",
       "      <td>2022-11-29 11:00:00</td>\n",
       "      <td>144.7246122599707</td>\n",
       "      <td>145.37340841949805</td>\n",
       "      <td>144.7246122599707</td>\n",
       "      <td>145.09010339734147</td>\n",
       "      <td>302551</td>\n",
       "    </tr>\n",
       "    <tr>\n",
       "      <th>271832</th>\n",
       "      <td>2022-11-29 10:00:00</td>\n",
       "      <td>144.37887740029566</td>\n",
       "      <td>145.03083456425432</td>\n",
       "      <td>143.92448301329418</td>\n",
       "      <td>144.71473412112286</td>\n",
       "      <td>364588</td>\n",
       "    </tr>\n",
       "    <tr>\n",
       "      <th>271833</th>\n",
       "      <td>2022-11-29 09:00:00</td>\n",
       "      <td>144.50719442392935</td>\n",
       "      <td>144.50729320531784</td>\n",
       "      <td>144.3986336779914</td>\n",
       "      <td>144.3986336779914</td>\n",
       "      <td>147396</td>\n",
       "    </tr>\n",
       "    <tr>\n",
       "      <th>271834</th>\n",
       "      <td>2022-11-29 08:00:00</td>\n",
       "      <td>144.8036373707536</td>\n",
       "      <td>144.8036373707536</td>\n",
       "      <td>144.50729320531784</td>\n",
       "      <td>144.78388109305786</td>\n",
       "      <td>6275</td>\n",
       "    </tr>\n",
       "    <tr>\n",
       "      <th>271835</th>\n",
       "      <td>2022-11-29 05:00:00</td>\n",
       "      <td>144.8727843426886</td>\n",
       "      <td>144.8727843426886</td>\n",
       "      <td>144.8727843426886</td>\n",
       "      <td>144.8727843426886</td>\n",
       "      <td>300</td>\n",
       "    </tr>\n",
       "  </tbody>\n",
       "</table>\n",
       "<p>1271 rows × 6 columns</p>\n",
       "</div>"
      ],
      "text/plain": [
       "0                      time                open                high  \\\n",
       "1       2023-04-27 20:00:00               126.9               126.9   \n",
       "2       2023-04-27 19:00:00              126.73              126.95   \n",
       "3       2023-04-27 18:00:00              126.95              126.95   \n",
       "4       2023-04-27 17:00:00              126.97               127.1   \n",
       "5       2023-04-27 16:00:00              126.95              127.02   \n",
       "...                     ...                 ...                 ...   \n",
       "271831  2022-11-29 11:00:00   144.7246122599707  145.37340841949805   \n",
       "271832  2022-11-29 10:00:00  144.37887740029566  145.03083456425432   \n",
       "271833  2022-11-29 09:00:00  144.50719442392935  144.50729320531784   \n",
       "271834  2022-11-29 08:00:00   144.8036373707536   144.8036373707536   \n",
       "271835  2022-11-29 05:00:00   144.8727843426886   144.8727843426886   \n",
       "\n",
       "0                      low               close  volume  \n",
       "1                    126.9               126.9     153  \n",
       "2                   126.73              126.73     889  \n",
       "3                 126.7397            126.7397     245  \n",
       "4                   126.72              126.72   60942  \n",
       "5                   126.64              126.97  733135  \n",
       "...                    ...                 ...     ...  \n",
       "271831   144.7246122599707  145.09010339734147  302551  \n",
       "271832  143.92448301329418  144.71473412112286  364588  \n",
       "271833   144.3986336779914   144.3986336779914  147396  \n",
       "271834  144.50729320531784  144.78388109305786    6275  \n",
       "271835   144.8727843426886   144.8727843426886     300  \n",
       "\n",
       "[1271 rows x 6 columns]"
      ]
     },
     "execution_count": 11,
     "metadata": {},
     "output_type": "execute_result"
    }
   ],
   "source": [
    "df.drop_duplicates(keep = 'first') #Remove any duplicates"
   ]
  },
  {
   "cell_type": "code",
   "execution_count": 12,
   "id": "073a960d-72b1-4df2-ace6-9eb985ecd9ed",
   "metadata": {},
   "outputs": [
    {
     "data": {
      "text/html": [
       "<div>\n",
       "<style scoped>\n",
       "    .dataframe tbody tr th:only-of-type {\n",
       "        vertical-align: middle;\n",
       "    }\n",
       "\n",
       "    .dataframe tbody tr th {\n",
       "        vertical-align: top;\n",
       "    }\n",
       "\n",
       "    .dataframe thead th {\n",
       "        text-align: right;\n",
       "    }\n",
       "</style>\n",
       "<table border=\"1\" class=\"dataframe\">\n",
       "  <thead>\n",
       "    <tr style=\"text-align: right;\">\n",
       "      <th></th>\n",
       "      <th>time</th>\n",
       "      <th>open</th>\n",
       "      <th>high</th>\n",
       "      <th>low</th>\n",
       "      <th>close</th>\n",
       "      <th>volume</th>\n",
       "    </tr>\n",
       "  </thead>\n",
       "  <tbody>\n",
       "    <tr>\n",
       "      <th>326824</th>\n",
       "      <td>2022-11-29 08:00:00</td>\n",
       "      <td>144.8036373707536</td>\n",
       "      <td>144.8036373707536</td>\n",
       "      <td>144.50729320531784</td>\n",
       "      <td>144.78388109305786</td>\n",
       "      <td>6275</td>\n",
       "    </tr>\n",
       "    <tr>\n",
       "      <th>326825</th>\n",
       "      <td>2022-11-29 05:00:00</td>\n",
       "      <td>144.8727843426886</td>\n",
       "      <td>144.8727843426886</td>\n",
       "      <td>144.8727843426886</td>\n",
       "      <td>144.8727843426886</td>\n",
       "      <td>300</td>\n",
       "    </tr>\n",
       "  </tbody>\n",
       "</table>\n",
       "</div>"
      ],
      "text/plain": [
       "0                      time               open               high  \\\n",
       "326824  2022-11-29 08:00:00  144.8036373707536  144.8036373707536   \n",
       "326825  2022-11-29 05:00:00  144.8727843426886  144.8727843426886   \n",
       "\n",
       "0                      low               close volume  \n",
       "326824  144.50729320531784  144.78388109305786   6275  \n",
       "326825   144.8727843426886   144.8727843426886    300  "
      ]
     },
     "execution_count": 12,
     "metadata": {},
     "output_type": "execute_result"
    }
   ],
   "source": [
    "df.tail(2)"
   ]
  },
  {
   "cell_type": "code",
   "execution_count": 13,
   "id": "da4e6b7d",
   "metadata": {},
   "outputs": [
    {
     "data": {
      "text/plain": [
       "0\n",
       "time      object\n",
       "open      object\n",
       "high      object\n",
       "low       object\n",
       "close     object\n",
       "volume    object\n",
       "dtype: object"
      ]
     },
     "execution_count": 13,
     "metadata": {},
     "output_type": "execute_result"
    }
   ],
   "source": [
    "df.dtypes"
   ]
  },
  {
   "cell_type": "markdown",
   "id": "55f3c794",
   "metadata": {},
   "source": [
    "Convert time column to datetime and numerical columns to float"
   ]
  },
  {
   "cell_type": "code",
   "execution_count": 14,
   "id": "ca31e67f",
   "metadata": {},
   "outputs": [],
   "source": [
    "df['time'] = pd.to_datetime(df['time'], format = \"%Y-%m-%d %H:%M:%S\") #Make datetime match the format of the column"
   ]
  },
  {
   "cell_type": "code",
   "execution_count": 15,
   "id": "583e952c",
   "metadata": {},
   "outputs": [
    {
     "data": {
      "text/plain": [
       "0\n",
       "time      datetime64[ns]\n",
       "open              object\n",
       "high              object\n",
       "low               object\n",
       "close             object\n",
       "volume            object\n",
       "dtype: object"
      ]
     },
     "execution_count": 15,
     "metadata": {},
     "output_type": "execute_result"
    }
   ],
   "source": [
    "df.dtypes #Validating change"
   ]
  },
  {
   "cell_type": "code",
   "execution_count": 16,
   "id": "e5d0772b",
   "metadata": {},
   "outputs": [
    {
     "data": {
      "text/html": [
       "<div>\n",
       "<style scoped>\n",
       "    .dataframe tbody tr th:only-of-type {\n",
       "        vertical-align: middle;\n",
       "    }\n",
       "\n",
       "    .dataframe tbody tr th {\n",
       "        vertical-align: top;\n",
       "    }\n",
       "\n",
       "    .dataframe thead th {\n",
       "        text-align: right;\n",
       "    }\n",
       "</style>\n",
       "<table border=\"1\" class=\"dataframe\">\n",
       "  <thead>\n",
       "    <tr style=\"text-align: right;\">\n",
       "      <th></th>\n",
       "      <th>time</th>\n",
       "      <th>open</th>\n",
       "      <th>high</th>\n",
       "      <th>low</th>\n",
       "      <th>close</th>\n",
       "      <th>volume</th>\n",
       "    </tr>\n",
       "  </thead>\n",
       "  <tbody>\n",
       "    <tr>\n",
       "      <th>1</th>\n",
       "      <td>2023-04-27 20:00:00</td>\n",
       "      <td>126.9</td>\n",
       "      <td>126.9</td>\n",
       "      <td>126.9</td>\n",
       "      <td>126.9</td>\n",
       "      <td>153</td>\n",
       "    </tr>\n",
       "    <tr>\n",
       "      <th>2</th>\n",
       "      <td>2023-04-27 19:00:00</td>\n",
       "      <td>126.73</td>\n",
       "      <td>126.95</td>\n",
       "      <td>126.73</td>\n",
       "      <td>126.73</td>\n",
       "      <td>889</td>\n",
       "    </tr>\n",
       "  </tbody>\n",
       "</table>\n",
       "</div>"
      ],
      "text/plain": [
       "0                time    open    high     low   close volume\n",
       "1 2023-04-27 20:00:00   126.9   126.9   126.9   126.9    153\n",
       "2 2023-04-27 19:00:00  126.73  126.95  126.73  126.73    889"
      ]
     },
     "execution_count": 16,
     "metadata": {},
     "output_type": "execute_result"
    }
   ],
   "source": [
    "df.head(2)"
   ]
  },
  {
   "cell_type": "code",
   "execution_count": 17,
   "id": "f91c0aef",
   "metadata": {},
   "outputs": [],
   "source": [
    "df = df.astype({'open':'float','high':'float','low':'float','close':'float','volume':'float',}) #Convert rest of values to float"
   ]
  },
  {
   "cell_type": "code",
   "execution_count": 18,
   "id": "7eed7447",
   "metadata": {},
   "outputs": [
    {
     "data": {
      "text/plain": [
       "0\n",
       "time      datetime64[ns]\n",
       "open             float64\n",
       "high             float64\n",
       "low              float64\n",
       "close            float64\n",
       "volume           float64\n",
       "dtype: object"
      ]
     },
     "execution_count": 18,
     "metadata": {},
     "output_type": "execute_result"
    }
   ],
   "source": [
    "df.dtypes"
   ]
  },
  {
   "cell_type": "code",
   "execution_count": 19,
   "id": "29da5739",
   "metadata": {},
   "outputs": [
    {
     "data": {
      "text/html": [
       "<div>\n",
       "<style scoped>\n",
       "    .dataframe tbody tr th:only-of-type {\n",
       "        vertical-align: middle;\n",
       "    }\n",
       "\n",
       "    .dataframe tbody tr th {\n",
       "        vertical-align: top;\n",
       "    }\n",
       "\n",
       "    .dataframe thead th {\n",
       "        text-align: right;\n",
       "    }\n",
       "</style>\n",
       "<table border=\"1\" class=\"dataframe\">\n",
       "  <thead>\n",
       "    <tr style=\"text-align: right;\">\n",
       "      <th></th>\n",
       "      <th>time</th>\n",
       "      <th>open</th>\n",
       "      <th>high</th>\n",
       "      <th>low</th>\n",
       "      <th>close</th>\n",
       "      <th>volume</th>\n",
       "    </tr>\n",
       "  </thead>\n",
       "  <tbody>\n",
       "    <tr>\n",
       "      <th>1</th>\n",
       "      <td>2023-04-27 20:00:00</td>\n",
       "      <td>126.90</td>\n",
       "      <td>126.90</td>\n",
       "      <td>126.9000</td>\n",
       "      <td>126.9000</td>\n",
       "      <td>153.0</td>\n",
       "    </tr>\n",
       "    <tr>\n",
       "      <th>2</th>\n",
       "      <td>2023-04-27 19:00:00</td>\n",
       "      <td>126.73</td>\n",
       "      <td>126.95</td>\n",
       "      <td>126.7300</td>\n",
       "      <td>126.7300</td>\n",
       "      <td>889.0</td>\n",
       "    </tr>\n",
       "    <tr>\n",
       "      <th>3</th>\n",
       "      <td>2023-04-27 18:00:00</td>\n",
       "      <td>126.95</td>\n",
       "      <td>126.95</td>\n",
       "      <td>126.7397</td>\n",
       "      <td>126.7397</td>\n",
       "      <td>245.0</td>\n",
       "    </tr>\n",
       "    <tr>\n",
       "      <th>4</th>\n",
       "      <td>2023-04-27 17:00:00</td>\n",
       "      <td>126.97</td>\n",
       "      <td>127.10</td>\n",
       "      <td>126.7200</td>\n",
       "      <td>126.7200</td>\n",
       "      <td>60942.0</td>\n",
       "    </tr>\n",
       "    <tr>\n",
       "      <th>5</th>\n",
       "      <td>2023-04-27 16:00:00</td>\n",
       "      <td>126.95</td>\n",
       "      <td>127.02</td>\n",
       "      <td>126.6400</td>\n",
       "      <td>126.9700</td>\n",
       "      <td>733135.0</td>\n",
       "    </tr>\n",
       "  </tbody>\n",
       "</table>\n",
       "</div>"
      ],
      "text/plain": [
       "0                time    open    high       low     close    volume\n",
       "1 2023-04-27 20:00:00  126.90  126.90  126.9000  126.9000     153.0\n",
       "2 2023-04-27 19:00:00  126.73  126.95  126.7300  126.7300     889.0\n",
       "3 2023-04-27 18:00:00  126.95  126.95  126.7397  126.7397     245.0\n",
       "4 2023-04-27 17:00:00  126.97  127.10  126.7200  126.7200   60942.0\n",
       "5 2023-04-27 16:00:00  126.95  127.02  126.6400  126.9700  733135.0"
      ]
     },
     "execution_count": 19,
     "metadata": {},
     "output_type": "execute_result"
    }
   ],
   "source": [
    "df.head()"
   ]
  },
  {
   "cell_type": "markdown",
   "id": "bdb6aa70",
   "metadata": {},
   "source": [
    "The time column will be made the index"
   ]
  },
  {
   "cell_type": "code",
   "execution_count": 20,
   "id": "8c8e3d5d",
   "metadata": {},
   "outputs": [],
   "source": [
    "df.set_index('time', inplace = True) #Make the time column the index"
   ]
  },
  {
   "cell_type": "code",
   "execution_count": 21,
   "id": "dea68d13",
   "metadata": {},
   "outputs": [
    {
     "data": {
      "text/html": [
       "<div>\n",
       "<style scoped>\n",
       "    .dataframe tbody tr th:only-of-type {\n",
       "        vertical-align: middle;\n",
       "    }\n",
       "\n",
       "    .dataframe tbody tr th {\n",
       "        vertical-align: top;\n",
       "    }\n",
       "\n",
       "    .dataframe thead th {\n",
       "        text-align: right;\n",
       "    }\n",
       "</style>\n",
       "<table border=\"1\" class=\"dataframe\">\n",
       "  <thead>\n",
       "    <tr style=\"text-align: right;\">\n",
       "      <th></th>\n",
       "      <th>open</th>\n",
       "      <th>high</th>\n",
       "      <th>low</th>\n",
       "      <th>close</th>\n",
       "      <th>volume</th>\n",
       "    </tr>\n",
       "    <tr>\n",
       "      <th>time</th>\n",
       "      <th></th>\n",
       "      <th></th>\n",
       "      <th></th>\n",
       "      <th></th>\n",
       "      <th></th>\n",
       "    </tr>\n",
       "  </thead>\n",
       "  <tbody>\n",
       "    <tr>\n",
       "      <th>2023-04-27 20:00:00</th>\n",
       "      <td>126.90</td>\n",
       "      <td>126.90</td>\n",
       "      <td>126.9000</td>\n",
       "      <td>126.9000</td>\n",
       "      <td>153.0</td>\n",
       "    </tr>\n",
       "    <tr>\n",
       "      <th>2023-04-27 19:00:00</th>\n",
       "      <td>126.73</td>\n",
       "      <td>126.95</td>\n",
       "      <td>126.7300</td>\n",
       "      <td>126.7300</td>\n",
       "      <td>889.0</td>\n",
       "    </tr>\n",
       "    <tr>\n",
       "      <th>2023-04-27 18:00:00</th>\n",
       "      <td>126.95</td>\n",
       "      <td>126.95</td>\n",
       "      <td>126.7397</td>\n",
       "      <td>126.7397</td>\n",
       "      <td>245.0</td>\n",
       "    </tr>\n",
       "    <tr>\n",
       "      <th>2023-04-27 17:00:00</th>\n",
       "      <td>126.97</td>\n",
       "      <td>127.10</td>\n",
       "      <td>126.7200</td>\n",
       "      <td>126.7200</td>\n",
       "      <td>60942.0</td>\n",
       "    </tr>\n",
       "    <tr>\n",
       "      <th>2023-04-27 16:00:00</th>\n",
       "      <td>126.95</td>\n",
       "      <td>127.02</td>\n",
       "      <td>126.6400</td>\n",
       "      <td>126.9700</td>\n",
       "      <td>733135.0</td>\n",
       "    </tr>\n",
       "  </tbody>\n",
       "</table>\n",
       "</div>"
      ],
      "text/plain": [
       "0                      open    high       low     close    volume\n",
       "time                                                             \n",
       "2023-04-27 20:00:00  126.90  126.90  126.9000  126.9000     153.0\n",
       "2023-04-27 19:00:00  126.73  126.95  126.7300  126.7300     889.0\n",
       "2023-04-27 18:00:00  126.95  126.95  126.7397  126.7397     245.0\n",
       "2023-04-27 17:00:00  126.97  127.10  126.7200  126.7200   60942.0\n",
       "2023-04-27 16:00:00  126.95  127.02  126.6400  126.9700  733135.0"
      ]
     },
     "execution_count": 21,
     "metadata": {},
     "output_type": "execute_result"
    }
   ],
   "source": [
    "df.head()"
   ]
  },
  {
   "cell_type": "markdown",
   "id": "beb975cb",
   "metadata": {},
   "source": [
    "Any potential duplicates are removed"
   ]
  },
  {
   "cell_type": "code",
   "execution_count": 22,
   "id": "e0d80920",
   "metadata": {},
   "outputs": [],
   "source": [
    "df = df.drop_duplicates(keep = 'first')"
   ]
  },
  {
   "cell_type": "code",
   "execution_count": 23,
   "id": "02848faa",
   "metadata": {},
   "outputs": [
    {
     "data": {
      "text/plain": [
       "(1270, 5)"
      ]
     },
     "execution_count": 23,
     "metadata": {},
     "output_type": "execute_result"
    }
   ],
   "source": [
    "df.shape"
   ]
  },
  {
   "cell_type": "markdown",
   "id": "fe0f1b17",
   "metadata": {},
   "source": [
    "Close price is plot"
   ]
  },
  {
   "cell_type": "code",
   "execution_count": 24,
   "id": "12b6e09f",
   "metadata": {},
   "outputs": [
    {
     "data": {
      "image/png": "[encoded data removed]",
      "text/plain": [
       "<Figure size 1100x800 with 1 Axes>"
      ]
     },
     "metadata": {},
     "output_type": "display_data"
    }
   ],
   "source": [
    "plt.figure(figsize=(11, 8)) # resizing the plot\n",
    "df['close'].plot()\n",
    "plt.title('Closing Price History') # adding a title\n",
    "plt.xlabel('Date') # x label\n",
    "plt.ylabel('Closing Price') # y label\n",
    "plt.show()"
   ]
  },
  {
   "cell_type": "markdown",
   "id": "8c2dd83b",
   "metadata": {},
   "source": [
    "Correlation between columns are highlighted, any columns too idential to close will be dropped"
   ]
  },
  {
   "cell_type": "code",
   "execution_count": 25,
   "id": "d905647e",
   "metadata": {},
   "outputs": [
    {
     "data": {
      "text/html": [
       "<div>\n",
       "<style scoped>\n",
       "    .dataframe tbody tr th:only-of-type {\n",
       "        vertical-align: middle;\n",
       "    }\n",
       "\n",
       "    .dataframe tbody tr th {\n",
       "        vertical-align: top;\n",
       "    }\n",
       "\n",
       "    .dataframe thead th {\n",
       "        text-align: right;\n",
       "    }\n",
       "</style>\n",
       "<table border=\"1\" class=\"dataframe\">\n",
       "  <thead>\n",
       "    <tr style=\"text-align: right;\">\n",
       "      <th></th>\n",
       "      <th>open</th>\n",
       "      <th>high</th>\n",
       "      <th>low</th>\n",
       "      <th>close</th>\n",
       "      <th>volume</th>\n",
       "    </tr>\n",
       "    <tr>\n",
       "      <th>0</th>\n",
       "      <th></th>\n",
       "      <th></th>\n",
       "      <th></th>\n",
       "      <th></th>\n",
       "      <th></th>\n",
       "    </tr>\n",
       "  </thead>\n",
       "  <tbody>\n",
       "    <tr>\n",
       "      <th>open</th>\n",
       "      <td>1.000000</td>\n",
       "      <td>0.998409</td>\n",
       "      <td>0.998341</td>\n",
       "      <td>0.997761</td>\n",
       "      <td>-0.066057</td>\n",
       "    </tr>\n",
       "    <tr>\n",
       "      <th>high</th>\n",
       "      <td>0.998409</td>\n",
       "      <td>1.000000</td>\n",
       "      <td>0.996398</td>\n",
       "      <td>0.998039</td>\n",
       "      <td>-0.050026</td>\n",
       "    </tr>\n",
       "    <tr>\n",
       "      <th>low</th>\n",
       "      <td>0.998341</td>\n",
       "      <td>0.996398</td>\n",
       "      <td>1.000000</td>\n",
       "      <td>0.998492</td>\n",
       "      <td>-0.082739</td>\n",
       "    </tr>\n",
       "    <tr>\n",
       "      <th>close</th>\n",
       "      <td>0.997761</td>\n",
       "      <td>0.998039</td>\n",
       "      <td>0.998492</td>\n",
       "      <td>1.000000</td>\n",
       "      <td>-0.067176</td>\n",
       "    </tr>\n",
       "    <tr>\n",
       "      <th>volume</th>\n",
       "      <td>-0.066057</td>\n",
       "      <td>-0.050026</td>\n",
       "      <td>-0.082739</td>\n",
       "      <td>-0.067176</td>\n",
       "      <td>1.000000</td>\n",
       "    </tr>\n",
       "  </tbody>\n",
       "</table>\n",
       "</div>"
      ],
      "text/plain": [
       "0           open      high       low     close    volume\n",
       "0                                                       \n",
       "open    1.000000  0.998409  0.998341  0.997761 -0.066057\n",
       "high    0.998409  1.000000  0.996398  0.998039 -0.050026\n",
       "low     0.998341  0.996398  1.000000  0.998492 -0.082739\n",
       "close   0.997761  0.998039  0.998492  1.000000 -0.067176\n",
       "volume -0.066057 -0.050026 -0.082739 -0.067176  1.000000"
      ]
     },
     "execution_count": 25,
     "metadata": {},
     "output_type": "execute_result"
    }
   ],
   "source": [
    "df.corr()"
   ]
  },
  {
   "cell_type": "markdown",
   "id": "53bb9945",
   "metadata": {},
   "source": [
    "Box plot to get an idea of the spread of data"
   ]
  },
  {
   "cell_type": "code",
   "execution_count": 26,
   "id": "28476549",
   "metadata": {},
   "outputs": [
    {
     "data": {
      "text/plain": [
       "<AxesSubplot:>"
      ]
     },
     "execution_count": 26,
     "metadata": {},
     "output_type": "execute_result"
    },
    {
     "data": {
      "image/png": "[encoded data removed]",
      "text/plain": [
       "<Figure size 640x480 with 1 Axes>"
      ]
     },
     "metadata": {},
     "output_type": "display_data"
    }
   ],
   "source": [
    "df.boxplot(column=['close'])"
   ]
  },
  {
   "cell_type": "code",
   "execution_count": 27,
   "id": "f3cc9b24",
   "metadata": {},
   "outputs": [
    {
     "data": {
      "text/plain": [
       "<Figure size 1600x800 with 0 Axes>"
      ]
     },
     "metadata": {},
     "output_type": "display_data"
    },
    {
     "data": {
      "image/png": "[encoded data removed]",
      "text/plain": [
       "<Figure size 1100x900 with 5 Axes>"
      ]
     },
     "metadata": {},
     "output_type": "display_data"
    }
   ],
   "source": [
    "plt.figure(figsize=(16, 8)) # resizing the plot\n",
    "cols = ['open', 'close', 'volume', 'high', 'low']\n",
    "axes = df[cols].plot(figsize=(11, 9), subplots = True)\n",
    "plt.show()"
   ]
  },
  {
   "cell_type": "code",
   "execution_count": 28,
   "id": "5e1a0cd1",
   "metadata": {},
   "outputs": [
    {
     "data": {
      "text/plain": [
       "0\n",
       "open      0\n",
       "high      0\n",
       "low       0\n",
       "close     0\n",
       "volume    0\n",
       "dtype: int64"
      ]
     },
     "execution_count": 28,
     "metadata": {},
     "output_type": "execute_result"
    }
   ],
   "source": [
    "df.isnull().sum()"
   ]
  },
  {
   "cell_type": "markdown",
   "id": "ce902fb3",
   "metadata": {},
   "source": [
    "The range and %change of between the values are calculated to add features for the model"
   ]
  },
  {
   "cell_type": "code",
   "execution_count": 29,
   "id": "165047e1",
   "metadata": {},
   "outputs": [],
   "source": [
    "df['HL_PCT_RANGE'] = (df['high'] - df['low']) / df['low'] * 100.0"
   ]
  },
  {
   "cell_type": "code",
   "execution_count": 30,
   "id": "b2090404",
   "metadata": {},
   "outputs": [],
   "source": [
    "df['PCT_CHANGE'] = (df['close'] - df['open']) / df['open'] * 100.0"
   ]
  },
  {
   "cell_type": "code",
   "execution_count": 31,
   "id": "8351c5fd",
   "metadata": {},
   "outputs": [
    {
     "data": {
      "text/html": [
       "<div>\n",
       "<style scoped>\n",
       "    .dataframe tbody tr th:only-of-type {\n",
       "        vertical-align: middle;\n",
       "    }\n",
       "\n",
       "    .dataframe tbody tr th {\n",
       "        vertical-align: top;\n",
       "    }\n",
       "\n",
       "    .dataframe thead th {\n",
       "        text-align: right;\n",
       "    }\n",
       "</style>\n",
       "<table border=\"1\" class=\"dataframe\">\n",
       "  <thead>\n",
       "    <tr style=\"text-align: right;\">\n",
       "      <th></th>\n",
       "      <th>open</th>\n",
       "      <th>high</th>\n",
       "      <th>low</th>\n",
       "      <th>close</th>\n",
       "      <th>volume</th>\n",
       "      <th>HL_PCT_RANGE</th>\n",
       "      <th>PCT_CHANGE</th>\n",
       "    </tr>\n",
       "    <tr>\n",
       "      <th>time</th>\n",
       "      <th></th>\n",
       "      <th></th>\n",
       "      <th></th>\n",
       "      <th></th>\n",
       "      <th></th>\n",
       "      <th></th>\n",
       "      <th></th>\n",
       "    </tr>\n",
       "  </thead>\n",
       "  <tbody>\n",
       "    <tr>\n",
       "      <th>2023-04-27 20:00:00</th>\n",
       "      <td>126.90</td>\n",
       "      <td>126.90</td>\n",
       "      <td>126.9000</td>\n",
       "      <td>126.9000</td>\n",
       "      <td>153.0</td>\n",
       "      <td>0.000000</td>\n",
       "      <td>0.000000</td>\n",
       "    </tr>\n",
       "    <tr>\n",
       "      <th>2023-04-27 19:00:00</th>\n",
       "      <td>126.73</td>\n",
       "      <td>126.95</td>\n",
       "      <td>126.7300</td>\n",
       "      <td>126.7300</td>\n",
       "      <td>889.0</td>\n",
       "      <td>0.173597</td>\n",
       "      <td>0.000000</td>\n",
       "    </tr>\n",
       "    <tr>\n",
       "      <th>2023-04-27 18:00:00</th>\n",
       "      <td>126.95</td>\n",
       "      <td>126.95</td>\n",
       "      <td>126.7397</td>\n",
       "      <td>126.7397</td>\n",
       "      <td>245.0</td>\n",
       "      <td>0.165931</td>\n",
       "      <td>-0.165656</td>\n",
       "    </tr>\n",
       "    <tr>\n",
       "      <th>2023-04-27 17:00:00</th>\n",
       "      <td>126.97</td>\n",
       "      <td>127.10</td>\n",
       "      <td>126.7200</td>\n",
       "      <td>126.7200</td>\n",
       "      <td>60942.0</td>\n",
       "      <td>0.299874</td>\n",
       "      <td>-0.196897</td>\n",
       "    </tr>\n",
       "    <tr>\n",
       "      <th>2023-04-27 16:00:00</th>\n",
       "      <td>126.95</td>\n",
       "      <td>127.02</td>\n",
       "      <td>126.6400</td>\n",
       "      <td>126.9700</td>\n",
       "      <td>733135.0</td>\n",
       "      <td>0.300063</td>\n",
       "      <td>0.015754</td>\n",
       "    </tr>\n",
       "  </tbody>\n",
       "</table>\n",
       "</div>"
      ],
      "text/plain": [
       "0                      open    high       low     close    volume  \\\n",
       "time                                                                \n",
       "2023-04-27 20:00:00  126.90  126.90  126.9000  126.9000     153.0   \n",
       "2023-04-27 19:00:00  126.73  126.95  126.7300  126.7300     889.0   \n",
       "2023-04-27 18:00:00  126.95  126.95  126.7397  126.7397     245.0   \n",
       "2023-04-27 17:00:00  126.97  127.10  126.7200  126.7200   60942.0   \n",
       "2023-04-27 16:00:00  126.95  127.02  126.6400  126.9700  733135.0   \n",
       "\n",
       "0                    HL_PCT_RANGE  PCT_CHANGE  \n",
       "time                                           \n",
       "2023-04-27 20:00:00      0.000000    0.000000  \n",
       "2023-04-27 19:00:00      0.173597    0.000000  \n",
       "2023-04-27 18:00:00      0.165931   -0.165656  \n",
       "2023-04-27 17:00:00      0.299874   -0.196897  \n",
       "2023-04-27 16:00:00      0.300063    0.015754  "
      ]
     },
     "execution_count": 31,
     "metadata": {},
     "output_type": "execute_result"
    }
   ],
   "source": [
    "df.head()"
   ]
  },
  {
   "cell_type": "markdown",
   "id": "dca821a5",
   "metadata": {},
   "source": [
    "Data is sorted by index time"
   ]
  },
  {
   "cell_type": "code",
   "execution_count": 32,
   "id": "4eb9fd8e",
   "metadata": {},
   "outputs": [],
   "source": [
    "df = df.sort_index()"
   ]
  },
  {
   "cell_type": "code",
   "execution_count": 33,
   "id": "11c7a16a",
   "metadata": {},
   "outputs": [
    {
     "data": {
      "text/html": [
       "<div>\n",
       "<style scoped>\n",
       "    .dataframe tbody tr th:only-of-type {\n",
       "        vertical-align: middle;\n",
       "    }\n",
       "\n",
       "    .dataframe tbody tr th {\n",
       "        vertical-align: top;\n",
       "    }\n",
       "\n",
       "    .dataframe thead th {\n",
       "        text-align: right;\n",
       "    }\n",
       "</style>\n",
       "<table border=\"1\" class=\"dataframe\">\n",
       "  <thead>\n",
       "    <tr style=\"text-align: right;\">\n",
       "      <th></th>\n",
       "      <th>open</th>\n",
       "      <th>high</th>\n",
       "      <th>low</th>\n",
       "      <th>close</th>\n",
       "      <th>volume</th>\n",
       "      <th>HL_PCT_RANGE</th>\n",
       "      <th>PCT_CHANGE</th>\n",
       "    </tr>\n",
       "    <tr>\n",
       "      <th>time</th>\n",
       "      <th></th>\n",
       "      <th></th>\n",
       "      <th></th>\n",
       "      <th></th>\n",
       "      <th></th>\n",
       "      <th></th>\n",
       "      <th></th>\n",
       "    </tr>\n",
       "  </thead>\n",
       "  <tbody>\n",
       "    <tr>\n",
       "      <th>2022-11-29 05:00:00</th>\n",
       "      <td>144.872784</td>\n",
       "      <td>144.872784</td>\n",
       "      <td>144.872784</td>\n",
       "      <td>144.872784</td>\n",
       "      <td>300.0</td>\n",
       "      <td>0.000000</td>\n",
       "      <td>0.000000</td>\n",
       "    </tr>\n",
       "    <tr>\n",
       "      <th>2022-11-29 08:00:00</th>\n",
       "      <td>144.803637</td>\n",
       "      <td>144.803637</td>\n",
       "      <td>144.507293</td>\n",
       "      <td>144.783881</td>\n",
       "      <td>6275.0</td>\n",
       "      <td>0.205072</td>\n",
       "      <td>-0.013643</td>\n",
       "    </tr>\n",
       "    <tr>\n",
       "      <th>2022-11-29 09:00:00</th>\n",
       "      <td>144.507194</td>\n",
       "      <td>144.507293</td>\n",
       "      <td>144.398634</td>\n",
       "      <td>144.398634</td>\n",
       "      <td>147396.0</td>\n",
       "      <td>0.075250</td>\n",
       "      <td>-0.075125</td>\n",
       "    </tr>\n",
       "  </tbody>\n",
       "</table>\n",
       "</div>"
      ],
      "text/plain": [
       "0                          open        high         low       close    volume  \\\n",
       "time                                                                            \n",
       "2022-11-29 05:00:00  144.872784  144.872784  144.872784  144.872784     300.0   \n",
       "2022-11-29 08:00:00  144.803637  144.803637  144.507293  144.783881    6275.0   \n",
       "2022-11-29 09:00:00  144.507194  144.507293  144.398634  144.398634  147396.0   \n",
       "\n",
       "0                    HL_PCT_RANGE  PCT_CHANGE  \n",
       "time                                           \n",
       "2022-11-29 05:00:00      0.000000    0.000000  \n",
       "2022-11-29 08:00:00      0.205072   -0.013643  \n",
       "2022-11-29 09:00:00      0.075250   -0.075125  "
      ]
     },
     "execution_count": 33,
     "metadata": {},
     "output_type": "execute_result"
    }
   ],
   "source": [
    "df.head(3)"
   ]
  },
  {
   "cell_type": "code",
   "execution_count": 34,
   "id": "bd84c5a0",
   "metadata": {},
   "outputs": [
    {
     "data": {
      "text/plain": [
       "(1270, 7)"
      ]
     },
     "execution_count": 34,
     "metadata": {},
     "output_type": "execute_result"
    }
   ],
   "source": [
    "df.shape"
   ]
  },
  {
   "cell_type": "markdown",
   "id": "31b09e12",
   "metadata": {},
   "source": [
    "We want to forecast 5% of the length of data"
   ]
  },
  {
   "cell_type": "code",
   "execution_count": 35,
   "id": "6c2acdda",
   "metadata": {},
   "outputs": [
    {
     "name": "stdout",
     "output_type": "stream",
     "text": [
      "64\n"
     ]
    }
   ],
   "source": [
    "forecast_out = int(math.ceil(0.05 * len(df))) # forcasting out 5% of the entire dataset\n",
    "print(forecast_out)\n",
    "df['label'] = df['close'].shift(-forecast_out)"
   ]
  },
  {
   "cell_type": "code",
   "execution_count": 36,
   "id": "eb266a99",
   "metadata": {},
   "outputs": [],
   "source": [
    "#Model"
   ]
  },
  {
   "cell_type": "code",
   "execution_count": 37,
   "id": "c19de720",
   "metadata": {},
   "outputs": [],
   "source": [
    "from sklearn.preprocessing import StandardScaler\n",
    "from sklearn.linear_model import LinearRegression, Ridge\n",
    "from sklearn.ensemble import RandomForestRegressor\n",
    "from sklearn.svm import SVR\n",
    "from sklearn.model_selection import train_test_split\n",
    "from sklearn.metrics import mean_squared_log_error"
   ]
  },
  {
   "cell_type": "markdown",
   "id": "0e5b2b2f",
   "metadata": {},
   "source": [
    "Data is standardised to have a modular value <1"
   ]
  },
  {
   "cell_type": "code",
   "execution_count": 38,
   "id": "1507a790",
   "metadata": {},
   "outputs": [
    {
     "name": "stderr",
     "output_type": "stream",
     "text": [
      "/var/folders/xh/8q06gt11787bp2l0dwrrvrwr0000gn/T/ipykernel_7229/90488812.py:2: FutureWarning: In a future version of pandas all arguments of DataFrame.drop except for the argument 'labels' will be keyword-only.\n",
      "  X = np.array(df.drop(['label'], 1))\n"
     ]
    }
   ],
   "source": [
    "scaler = StandardScaler()\n",
    "X = np.array(df.drop(['label'], 1))\n",
    "scaler.fit(X)\n",
    "X = scaler.transform(X)"
   ]
  },
  {
   "cell_type": "markdown",
   "id": "2fea0e6d",
   "metadata": {},
   "source": [
    "X_Pred is data to be predicted, X is data to be trained"
   ]
  },
  {
   "cell_type": "code",
   "execution_count": 39,
   "id": "d2c8ad01",
   "metadata": {},
   "outputs": [],
   "source": [
    "X_Pred = X[-forecast_out:] #Data to be predicted\n",
    "X = X[:-forecast_out] # data to be trained"
   ]
  },
  {
   "cell_type": "markdown",
   "id": "0c565411",
   "metadata": {},
   "source": [
    "Removed the additional 64 rows added"
   ]
  },
  {
   "cell_type": "code",
   "execution_count": 40,
   "id": "1a119ade",
   "metadata": {},
   "outputs": [],
   "source": [
    "df.dropna(inplace=True)"
   ]
  },
  {
   "cell_type": "code",
   "execution_count": 41,
   "id": "5d00271f",
   "metadata": {},
   "outputs": [],
   "source": [
    "y = np.array(df['label'])"
   ]
  },
  {
   "cell_type": "code",
   "execution_count": 42,
   "id": "485c687f",
   "metadata": {},
   "outputs": [],
   "source": [
    "X_train, X_test, y_train, y_test = train_test_split(X, y, test_size=0.2, random_state=42)"
   ]
  },
  {
   "cell_type": "code",
   "execution_count": 43,
   "id": "82855f48",
   "metadata": {},
   "outputs": [
    {
     "data": {
      "text/plain": [
       "0.7228335043035501"
      ]
     },
     "execution_count": 43,
     "metadata": {},
     "output_type": "execute_result"
    }
   ],
   "source": [
    "lr = LinearRegression()\n",
    "lr.fit(X_train, y_train)\n",
    "lr_confidence = lr.score(X_test, y_test)\n",
    "lr_confidence"
   ]
  },
  {
   "cell_type": "code",
   "execution_count": 44,
   "id": "f8a62950",
   "metadata": {},
   "outputs": [
    {
     "data": {
      "text/plain": [
       "0.7225369364798799"
      ]
     },
     "execution_count": 44,
     "metadata": {},
     "output_type": "execute_result"
    }
   ],
   "source": [
    "rg = Ridge()\n",
    "rg.fit(X_train, y_train)\n",
    "rg_confidence = rg.score(X_test, y_test)\n",
    "rg_confidence"
   ]
  },
  {
   "cell_type": "code",
   "execution_count": 45,
   "id": "2d2c40a8",
   "metadata": {},
   "outputs": [
    {
     "data": {
      "text/plain": [
       "0.7263119725534625"
      ]
     },
     "execution_count": 45,
     "metadata": {},
     "output_type": "execute_result"
    }
   ],
   "source": [
    "svr = SVR()\n",
    "svr.fit(X_train, y_train)\n",
    "svr_confidence = svr.score(X_test, y_test)\n",
    "svr_confidence"
   ]
  },
  {
   "cell_type": "code",
   "execution_count": 46,
   "id": "1ed68a81",
   "metadata": {},
   "outputs": [
    {
     "data": {
      "text/plain": [
       "0.7901882833573184"
      ]
     },
     "execution_count": 46,
     "metadata": {},
     "output_type": "execute_result"
    }
   ],
   "source": [
    "rf = RandomForestRegressor()\n",
    "rf.fit(X_train, y_train)\n",
    "rf_confidence = rf.score(X_test, y_test)\n",
    "rf_confidence"
   ]
  },
  {
   "cell_type": "code",
   "execution_count": 47,
   "id": "6cf3595f",
   "metadata": {},
   "outputs": [
    {
     "data": {
      "text/html": [
       "<div>\n",
       "<style scoped>\n",
       "    .dataframe tbody tr th:only-of-type {\n",
       "        vertical-align: middle;\n",
       "    }\n",
       "\n",
       "    .dataframe tbody tr th {\n",
       "        vertical-align: top;\n",
       "    }\n",
       "\n",
       "    .dataframe thead th {\n",
       "        text-align: right;\n",
       "    }\n",
       "</style>\n",
       "<table border=\"1\" class=\"dataframe\">\n",
       "  <thead>\n",
       "    <tr style=\"text-align: right;\">\n",
       "      <th></th>\n",
       "      <th>model</th>\n",
       "      <th>accuracy</th>\n",
       "    </tr>\n",
       "  </thead>\n",
       "  <tbody>\n",
       "    <tr>\n",
       "      <th>0</th>\n",
       "      <td>Linear Regression</td>\n",
       "      <td>0.722834</td>\n",
       "    </tr>\n",
       "    <tr>\n",
       "      <th>1</th>\n",
       "      <td>Ridge</td>\n",
       "      <td>0.722537</td>\n",
       "    </tr>\n",
       "    <tr>\n",
       "      <th>2</th>\n",
       "      <td>SVR</td>\n",
       "      <td>0.726312</td>\n",
       "    </tr>\n",
       "    <tr>\n",
       "      <th>3</th>\n",
       "      <td>Random Forest</td>\n",
       "      <td>0.790188</td>\n",
       "    </tr>\n",
       "  </tbody>\n",
       "</table>\n",
       "</div>"
      ],
      "text/plain": [
       "               model  accuracy\n",
       "0  Linear Regression  0.722834\n",
       "1              Ridge  0.722537\n",
       "2                SVR  0.726312\n",
       "3      Random Forest  0.790188"
      ]
     },
     "execution_count": 47,
     "metadata": {},
     "output_type": "execute_result"
    }
   ],
   "source": [
    "names = ['Linear Regression', 'Ridge', 'SVR','Random Forest']\n",
    "columns = ['model', 'accuracy']\n",
    "scores = [lr_confidence, rg_confidence, svr_confidence, rf_confidence]\n",
    "alg_vs_score = pd.DataFrame([[x, y] for x, y in zip(names, scores)], columns = columns)\n",
    "alg_vs_score"
   ]
  },
  {
   "cell_type": "code",
   "execution_count": 48,
   "id": "6c22ffae",
   "metadata": {},
   "outputs": [
    {
     "data": {
      "text/plain": [
       "(array([0, 1, 2, 3]),\n",
       " [Text(0, 0, 'Linear Regression'),\n",
       "  Text(1, 0, 'Ridge'),\n",
       "  Text(2, 0, 'SVR'),\n",
       "  Text(3, 0, 'Random Forest')])"
      ]
     },
     "execution_count": 48,
     "metadata": {},
     "output_type": "execute_result"
    },
    {
     "data": {
      "image/png": "[encoded data removed]",
      "text/plain": [
       "<Figure size 640x480 with 1 Axes>"
      ]
     },
     "metadata": {},
     "output_type": "display_data"
    }
   ],
   "source": [
    "sns.barplot(data = alg_vs_score, x='model', y='accuracy' )\n",
    "plt.title(\"Different Models Performace\")\n",
    "plt.xticks(rotation='vertical')"
   ]
  },
  {
   "cell_type": "code",
   "execution_count": 49,
   "id": "49d0e261",
   "metadata": {},
   "outputs": [],
   "source": [
    "last_date = df.index[-1] #getting the lastdate in the dataset\n",
    "last_unix = last_date.timestamp() #converting it to time in seconds\n",
    "one_day = 86400 #one day equals 86400 seconds\n",
    "next_unix = last_unix + one_day # getting the time in seconds for the next day\n",
    "forecast_set = rf.predict(X_Pred) # predicting forecast data\n",
    "df['Forecast'] = np.nan\n",
    "for i in forecast_set:\n",
    "    next_date = datetime.datetime.fromtimestamp(next_unix)\n",
    "    next_unix += 86400\n",
    "    df.loc[next_date] = [np.nan for _ in range(len(df.columns)-1)]+[i]"
   ]
  },
  {
   "cell_type": "code",
   "execution_count": 50,
   "id": "f1e31c65",
   "metadata": {},
   "outputs": [
    {
     "data": {
      "image/png": "[encoded data removed]",
      "text/plain": [
       "<Figure size 1800x800 with 1 Axes>"
      ]
     },
     "metadata": {},
     "output_type": "display_data"
    }
   ],
   "source": [
    "plt.figure(figsize=(18, 8))\n",
    "df['close'].plot()\n",
    "df['Forecast'].plot()\n",
    "plt.legend(loc=4)\n",
    "plt.xlabel('Date')\n",
    "plt.ylabel('Price')\n",
    "plt.show()"
   ]
  }
 ],
 "metadata": {
  "kernelspec": {
   "display_name": "Python 3 (ipykernel)",
   "language": "python",
   "name": "python3"
  },
  "language_info": {
   "codemirror_mode": {
    "name": "ipython",
    "version": 3
   },
   "file_extension": ".py",
   "mimetype": "text/x-python",
   "name": "python",
   "nbconvert_exporter": "python",
   "pygments_lexer": "ipython3",
   "version": "3.9.13"
  }
 },
 "nbformat": 4,
 "nbformat_minor": 5
}
